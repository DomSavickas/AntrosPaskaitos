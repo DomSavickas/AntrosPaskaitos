{
 "cells": [
  {
   "cell_type": "markdown",
   "metadata": {
    "collapsed": true
   },
   "source": [
    "# Python Flow Control"
   ]
  },
  {
   "cell_type": "markdown",
   "metadata": {},
   "source": [
    "# if...else Statement\n",
    "\n",
    "Decision-making in programming, much similar to decision-making in real life, is quite important as it helps us decide what the program should do next. Decision-making helps in deciding the flow of execution of the program. Decision-making is implemented using if else in Python. The conditional logic in Python is primarily based on the ‘if else’ structure."
   ]
  },
  {
   "cell_type": "code",
   "execution_count": null,
   "metadata": {},
   "outputs": [],
   "source": [
    "# if condition\n",
    "a = int(input(\"enter a number: \"))\n",
    "\n",
    "if a == 100:\n",
    "    print(\"hundred\")\n",
    "\n",
    "if a != 100:\n",
    "    print(\"a different number\")"
   ]
  },
  {
   "cell_type": "code",
   "execution_count": null,
   "metadata": {},
   "outputs": [],
   "source": [
    "# if...else... condition\n",
    "a = int(input(\"enter a number: \"))\n",
    "\n",
    "if a == 100:\n",
    "    print(\"hundred\")\n",
    "else:\n",
    "    print(\"a different number\")"
   ]
  },
  {
   "cell_type": "code",
   "execution_count": null,
   "metadata": {},
   "outputs": [],
   "source": [
    "# combined conditions\n",
    "a = int(input(\"enter a number: \"))\n",
    "\n",
    "if a == 100:\n",
    "    print(\"hundred\")\n",
    "elif a == 200:\n",
    "    print(\"two hundred\")\n",
    "elif a == 300:\n",
    "    print(\"three hundred\")\n",
    "else:\n",
    "    print(\"a different number\")"
   ]
  },
  {
   "cell_type": "code",
   "execution_count": null,
   "metadata": {},
   "outputs": [],
   "source": [
    "# several conditions in one if condition\n",
    "a = int(input(\"enter a number: \"))\n",
    "\n",
    "if a >= 100 and a < 200:\n",
    "    print(\"number between 100 and 200\")\n",
    "else:\n",
    "    print(\"number not between 100 and 200\")"
   ]
  },
  {
   "cell_type": "code",
   "execution_count": null,
   "metadata": {},
   "outputs": [],
   "source": [
    "# if condition in if condition\n",
    "a = int(input(\"enter a number: \"))\n",
    "\n",
    "if a >= 100 and a < 200:\n",
    "    if a == 150:\n",
    "        print(\"a number 150\")\n",
    "    else:\n",
    "        print(\"number between 100 and 200\")\n",
    "else:\n",
    "    print(\"number not between 100 and 200\")"
   ]
  },
  {
   "cell_type": "code",
   "execution_count": null,
   "metadata": {},
   "outputs": [],
   "source": [
    "# if condition in one row\n",
    "a = int(input(\"enter a number: \"))\n",
    "print(\"greater than 100\" if a >= 100 else \"less than 100\")"
   ]
  },
  {
   "cell_type": "markdown",
   "metadata": {},
   "source": [
    "# while Loop\n",
    "\n",
    "The while loop is used to iterate over a block of code as long as the test expression (condition) is true."
   ]
  },
  {
   "cell_type": "code",
   "execution_count": null,
   "metadata": {},
   "outputs": [],
   "source": [
    "# while Loop without else condition\n",
    "sum = 0\n",
    "i = 1\n",
    "\n",
    "while i <= 10:\n",
    "    sum += i\n",
    "    \n",
    "    print(i, sum)\n",
    "    \n",
    "    i += 1\n",
    "\n",
    "print(\"Sum: \", sum)"
   ]
  },
  {
   "cell_type": "code",
   "execution_count": null,
   "metadata": {},
   "outputs": [],
   "source": [
    "# while Loop with else condition\n",
    "number = 23\n",
    "running = True\n",
    "\n",
    "while running:\n",
    "    guess = int(input(\"enter a number: \"))\n",
    "\n",
    "    if guess == number:\n",
    "        print(\"You guessed the number!\")\n",
    "        running = False\n",
    "    elif guess < number:\n",
    "        print(\"a number is bigger.\")\n",
    "    else:\n",
    "        print(\"a number is smaller.\")\n",
    "else:\n",
    "    print(\"Loop is finished\")\n",
    "\n",
    "print(\"the end\")"
   ]
  },
  {
   "cell_type": "markdown",
   "metadata": {},
   "source": [
    "# for Loop\n",
    "\n",
    "The for loop is used to iterate over a sequence (list, tuple, string) or other iterable objects. Loop continues until we reach the last item in the sequence. "
   ]
  },
  {
   "cell_type": "code",
   "execution_count": null,
   "metadata": {},
   "outputs": [],
   "source": [
    "# function range\n",
    "a = range(10)\n",
    "print(list(a))\n",
    "\n",
    "a = range(3, 10)\n",
    "print(list(a))\n",
    "\n",
    "a = range(3, 10, 2)\n",
    "print(list(a))"
   ]
  },
  {
   "cell_type": "code",
   "execution_count": null,
   "metadata": {},
   "outputs": [],
   "source": [
    "numbers = [6, 5, 3, 8, 4, 2, 5, 4, 11]\n",
    "\n",
    "sum = 0\n",
    "\n",
    "for val in numbers:\n",
    "    sum += val\n",
    "\n",
    "print(\"Sum: \", sum)"
   ]
  },
  {
   "cell_type": "code",
   "execution_count": null,
   "metadata": {},
   "outputs": [],
   "source": [
    "sum = 0\n",
    "\n",
    "for val in range(1, 10, 3):\n",
    "    print(val)\n",
    "    sum += val\n",
    "\n",
    "print(\"Sum: \", sum)"
   ]
  },
  {
   "cell_type": "code",
   "execution_count": null,
   "metadata": {},
   "outputs": [],
   "source": [
    "for val in \"Hi\":\n",
    "    print(val)"
   ]
  },
  {
   "cell_type": "code",
   "execution_count": null,
   "metadata": {},
   "outputs": [],
   "source": [
    "# One row for Loop\n",
    "a = [1, 2, 3, 4, 5]\n",
    "\n",
    "a = [x * 2 for x in a]\n",
    "print(a)"
   ]
  },
  {
   "cell_type": "code",
   "execution_count": null,
   "metadata": {},
   "outputs": [],
   "source": [
    "# One row for Loop with if condition\n",
    "a = [1, 2, 3, 4, 5]\n",
    "\n",
    "a = [x * 2 if x * 2 >= 6 else 0 for x in a]\n",
    "print(a)"
   ]
  },
  {
   "cell_type": "code",
   "execution_count": null,
   "metadata": {},
   "outputs": [],
   "source": [
    "# One row for Loop with element checking\n",
    "x = [1, 2, 3, 4, 5]\n",
    "\n",
    "a = [e for e in x if e%2==0]\n",
    "print(a)"
   ]
  },
  {
   "cell_type": "code",
   "execution_count": null,
   "metadata": {},
   "outputs": [],
   "source": [
    "# looping through the list with index\n",
    "for idx, val in enumerate(\"Hi\"):\n",
    "    print(idx, val)"
   ]
  },
  {
   "cell_type": "code",
   "execution_count": null,
   "metadata": {},
   "outputs": [],
   "source": [
    "# looping through dictionary\n",
    "a = {\n",
    "    \"John\": \"first\",\n",
    "    \"Alfred\": \"second\",\n",
    "    \"Laila\": \"third\"\n",
    "}\n",
    "\n",
    "print(a.items())\n",
    "\n",
    "for key, value in a.items():\n",
    "    print(key, value)\n",
    "    \n",
    "for key in a:\n",
    "    print(key)\n",
    "\n",
    "for key in a.keys():\n",
    "    print(key)\n",
    "    \n",
    "for values in a.values():\n",
    "    print(values)"
   ]
  },
  {
   "cell_type": "code",
   "execution_count": null,
   "metadata": {},
   "outputs": [],
   "source": [
    "# text splitting, changing characters\n",
    "a = \"zero.one.two.three.four.five.six.seven.eight.nine\"\n",
    "print(a)\n",
    "\n",
    "a = a.replace(\".\", \"-\")\n",
    "print(a)\n",
    "\n",
    "a = a.split(\"-\")\n",
    "print(a)\n",
    "\n",
    "for val in a:\n",
    "    print(val)"
   ]
  },
  {
   "cell_type": "markdown",
   "metadata": {},
   "source": [
    "# Iterators\n",
    "\n",
    "Iterators are objects that can be iterated upon. \n",
    "\n",
    "We use the next() function to manually iterate through all the items of an iterator. When we reach the end and there is no more data to be returned, it will raise StopIteration. \n",
    "\n",
    "The built-in function iter() can be called with two arguments where the first argument must be a callable object (function) and second is the sentinel. The iterator calls this function until the returned value is equal to the sentinel.\n",
    "\n",
    "The advantage of using iterators is that they save resources. We can have infinite items (theoretically) in finite memory."
   ]
  },
  {
   "cell_type": "code",
   "execution_count": null,
   "metadata": {},
   "outputs": [],
   "source": [
    "# iterators\n",
    "a = (1, 2, 3, 4)   #list\n",
    "a_iter = iter(a)   #iterator of list a\n",
    "\n",
    "print(type(a))\n",
    "print(type(a_iter))\n",
    "\n",
    "print(a_iter.__next__())\n",
    "print(a_iter.__next__())\n",
    "print(a_iter.__next__())\n",
    "\n",
    "print(type(tuple(a_iter)))"
   ]
  },
  {
   "cell_type": "code",
   "execution_count": null,
   "metadata": {},
   "outputs": [],
   "source": [
    "# iteration in for Loop. Both loops are the same.\n",
    "a = (1, 2, 3, 4)\n",
    "\n",
    "for i in iter(a):\n",
    "    print(i)\n",
    "\n",
    "for i in a:\n",
    "    print(i)"
   ]
  },
  {
   "cell_type": "markdown",
   "metadata": {},
   "source": [
    "# break and continue\n",
    "\n",
    "* break - terminates the loop containing it. Control of the program flows to the statement immediately after the body of the loop. If break statement is inside a nested loop (loop inside another loop), break will terminate the innermost loop.\n",
    "* continue - The continue statement is used to skip the rest of the code inside a loop for the current iteration only. Loop does not terminate but continues on with the next iteration."
   ]
  },
  {
   "cell_type": "code",
   "execution_count": null,
   "metadata": {},
   "outputs": [],
   "source": [
    "for val in \"text\":\n",
    "    if val == \"x\":\n",
    "        break\n",
    "    print(val)\n",
    "\n",
    "print(\"The end\")"
   ]
  },
  {
   "cell_type": "code",
   "execution_count": null,
   "metadata": {},
   "outputs": [],
   "source": [
    "val = 10\n",
    "\n",
    "while val > 0:\n",
    "    val -= 1\n",
    "    if val == 5:\n",
    "        continue\n",
    "    print(\"value: \", val)\n",
    "print(\"The end\")"
   ]
  },
  {
   "cell_type": "markdown",
   "metadata": {},
   "source": [
    "# pass statement\n",
    "\n",
    "It is used when a statement is required syntactically but you do not want any command or code to execute. The pass statement is a null operation; nothing happens when it executes. The pass is also useful in places where your code will eventually go, but has not been written yet."
   ]
  },
  {
   "cell_type": "code",
   "execution_count": null,
   "metadata": {},
   "outputs": [],
   "source": [
    "sequence = [1, 2, 3, 4]\n",
    "\n",
    "for val in sequence:\n",
    "    pass\n",
    "\n",
    "print(\"The end\")"
   ]
  },
  {
   "cell_type": "markdown",
   "metadata": {},
   "source": [
    "# Errors and Exceptions\n",
    "\n",
    "There are (at least) two distinguishable kinds of errors: syntax errors and exceptions:\n",
    "* Syntax Errors.\n",
    "* Exceptions. Even if a statement or expression is syntactically correct, it may cause an error when an attempt is made to execute it. Errors detected during execution are called exceptions and are not unconditionally fatal.\n",
    "\n",
    "List of existing exceptions https://docs.python.org/3/library/exceptions.html#bltin-exceptions.\n",
    "\n",
    "The simplest way to handle exceptions is with a \"try-except\" block."
   ]
  },
  {
   "cell_type": "code",
   "execution_count": null,
   "metadata": {},
   "outputs": [],
   "source": [
    "# a number is expected, while the text is received - ValueError\n",
    "n = int(input(\"enter a number: \"))"
   ]
  },
  {
   "cell_type": "code",
   "execution_count": null,
   "metadata": {},
   "outputs": [],
   "source": [
    "# ValueError exception\n",
    "while True:\n",
    "    try:\n",
    "        n = input(\"enter a number: \")\n",
    "        n = int(n)\n",
    "        break\n",
    "    except ValueError:\n",
    "        print(\"This is not a number. Try again...\")\n",
    "print(\"number is entered\")"
   ]
  },
  {
   "cell_type": "code",
   "execution_count": null,
   "metadata": {},
   "outputs": [],
   "source": [
    "# ValueError catch, but not ZeroDivisionError\n",
    "while True:\n",
    "    try:\n",
    "        n = input(\"enter a number: \")\n",
    "        n = int(n)\n",
    "        print(\"result:\", 10 / n)\n",
    "        break\n",
    "    except ValueError:\n",
    "        print(\"This is not a number. Try again...\")"
   ]
  },
  {
   "cell_type": "code",
   "execution_count": null,
   "metadata": {},
   "outputs": [],
   "source": [
    "# several exceptions: ZeroDivisionError and ValueError\n",
    "while True:\n",
    "    try:\n",
    "        n = input(\"enter a number: \")\n",
    "        n = int(n)\n",
    "        print(\"result:\", 10 / n)\n",
    "        break\n",
    "    except ValueError as e:\n",
    "        print(e.args)\n",
    "        print(\"This is not a number. Try again...\")\n",
    "    except ZeroDivisionError as e:\n",
    "        print(e.args)\n",
    "        print(\"Division by 0. Try again...\")"
   ]
  },
  {
   "cell_type": "code",
   "execution_count": null,
   "metadata": {},
   "outputs": [],
   "source": [
    "# all exception handling\n",
    "while True:\n",
    "    try:\n",
    "        n = input(\"enter a number: \")\n",
    "        n = int(n)\n",
    "        print(\"result:\", 10 / n)\n",
    "        break\n",
    "    except:\n",
    "        print(\"Something wrong. Try again...\")"
   ]
  },
  {
   "cell_type": "code",
   "execution_count": null,
   "metadata": {},
   "outputs": [],
   "source": [
    "# calling exception\n",
    "while True:\n",
    "    try:\n",
    "        n = input(\"enter a number: \")\n",
    "        n = int(n)\n",
    "        \n",
    "        if n > 100:\n",
    "            raise ValueError(\"number is a bigger than 100.\")\n",
    "        \n",
    "        print(\"result:\", 10 / n)\n",
    "        break\n",
    "    except ValueError as e:\n",
    "        print(e.args)\n",
    "    except:\n",
    "        print(\"Something wrong. Try again...\")"
   ]
  },
  {
   "cell_type": "code",
   "execution_count": null,
   "metadata": {},
   "outputs": [],
   "source": [
    "# else and finally bloks\n",
    "def proper_divide(x, y):\n",
    "    try:\n",
    "        result = x / y\n",
    "    except ZeroDivisionError:\n",
    "        print(\"Division by 0\")\n",
    "    else:\n",
    "        print(\"results: \", result)\n",
    "    finally:\n",
    "        print(\"The end\")\n",
    "\n",
    "proper_divide(10, 0)\n",
    "proper_divide(10, 2)"
   ]
  },
  {
   "cell_type": "markdown",
   "metadata": {},
   "source": [
    "# Tasks\n",
    "\n",
    "1. Write a program, which will combain two lists x and y into the one and sort the new list in ascending order.\n",
    "'''python\n",
    "    x = [1, 2, 3, 4, 5, 100, 200, 300, 1000]\n",
    "    y = [100, 1000, 250, 200, 2, 2]\n",
    "'''\n",
    "2. Write a program, which will find all numbers which divide by 7, but not divide by 5, from range 2000 - 4000. Print these digits to the screen. \n",
    "3. Write a program, which asks to enter a number (n), then a program should generate a dictionary from 0 to n, which key (i) and value is (i*2). Print the dictionary to the screen.\n",
    "4. Write a program, which will perform a symbol replacement according to the rules described in the dictionary. Print the changed text to the screen.\n",
    "'''python\n",
    "    rules = {\n",
    "        \".\": \"\",\n",
    "        \",\": \".\",\n",
    "        \"!\": \"?\",\n",
    "        \"a\": \"A\"\n",
    "    }\n",
    "'''\n",
    "5. Edit the third task. If the number from 2 to 4 will be entered, then ValueError should appear."
   ]
  }
 ],
 "metadata": {
  "kernelspec": {
   "display_name": "Python 3",
   "language": "python",
   "name": "python3"
  },
  "language_info": {
   "codemirror_mode": {
    "name": "ipython",
    "version": 3
   },
   "file_extension": ".py",
   "mimetype": "text/x-python",
   "name": "python",
   "nbconvert_exporter": "python",
   "pygments_lexer": "ipython3",
   "version": "3.8.3"
  }
 },
 "nbformat": 4,
 "nbformat_minor": 2
}